{
 "cells": [
  {
   "cell_type": "code",
   "execution_count": 22,
   "metadata": {},
   "outputs": [],
   "source": [
    "#Import spark related libraries\n",
    "from pyspark import SparkConf\n",
    "from pyspark.sql import SparkSession\n",
    "from pyspark.sql import SQLContext"
   ]
  },
  {
   "cell_type": "code",
   "execution_count": 23,
   "metadata": {},
   "outputs": [],
   "source": [
    "spark = SparkSession.builder.appName(\"Demo\").getOrCreate()\n",
    "sc = spark.sparkContext\n",
    "sqlContext = SQLContext(sc)\n",
    "df = sqlContext.read.format(\"com.databricks.spark.csv\").option(\"header\", \"true\").option(\"inferSchema\", \"true\").load(\"s3a://aws-bda-assign1/crimes_sample.csv\")"
   ]
  },
  {
   "cell_type": "code",
   "execution_count": 24,
   "metadata": {},
   "outputs": [],
   "source": [
    "data = df[df['Year'] == 2007].groupby(df['Primary Type']).count()"
   ]
  },
  {
   "cell_type": "code",
   "execution_count": 25,
   "metadata": {},
   "outputs": [
    {
     "name": "stdout",
     "output_type": "stream",
     "text": [
      "+--------------------+-----+\n",
      "|        Primary Type|count|\n",
      "+--------------------+-----+\n",
      "|OFFENSE INVOLVING...|   42|\n",
      "|            STALKING|    7|\n",
      "|PUBLIC PEACE VIOL...|   34|\n",
      "|               ARSON|    4|\n",
      "|            GAMBLING|    7|\n",
      "|   CRIMINAL TRESPASS|  119|\n",
      "|             ASSAULT|  225|\n",
      "|LIQUOR LAW VIOLATION|   11|\n",
      "| MOTOR VEHICLE THEFT|  186|\n",
      "|               THEFT|  918|\n",
      "|             BATTERY|  793|\n",
      "|             ROBBERY|  142|\n",
      "| CRIM SEXUAL ASSAULT|   14|\n",
      "|        PROSTITUTION|   94|\n",
      "|  DECEPTIVE PRACTICE|  215|\n",
      "|         SEX OFFENSE|    9|\n",
      "|     CRIMINAL DAMAGE|  522|\n",
      "|           NARCOTICS|  732|\n",
      "|       OTHER OFFENSE|  282|\n",
      "|          KIDNAPPING|    1|\n",
      "+--------------------+-----+\n",
      "only showing top 20 rows\n",
      "\n"
     ]
    }
   ],
   "source": [
    "data.show()"
   ]
  },
  {
   "cell_type": "code",
   "execution_count": 33,
   "metadata": {},
   "outputs": [],
   "source": [
    "## Mysql Connector\n",
    "import mysql.connector\n",
    "import logging\n",
    "\n",
    "\n",
    "def get_connection():\n",
    "    \"\"\"\n",
    "    get MySQL connection.  auto-commit is set to False by default.  you don't need to\n",
    "    start a transaction explicitly\n",
    "    :param environment: the environment\n",
    "    :param read_only: whether to connect to read-only db or not\n",
    "    :param db: name of the database\n",
    "    :return: the database connection\n",
    "    \"\"\"\n",
    "    config = {\n",
    "        'user': 'asad',\n",
    "        'password': 'admin123',\n",
    "        'host': 'myawsbigdatainstance.cmioopaskdwr.us-east-1.rds.amazonaws.com',\n",
    "        'database': 'crimes_database'\n",
    "    }\n",
    "\n",
    "    cn = mysql.connector.connect(**config)\n",
    "    return cn\n",
    "\n",
    "\n",
    "def execute_query_with_cnx(cnx, sql, parameters=(), fetch_one=False, close_connection=True):\n",
    "    \"\"\"\n",
    "    execute SQL query with given connection\n",
    "    :param close_connection: if True close the connection after the query is ran\n",
    "    :param cnx: database connection you opened explicitly\n",
    "    :param sql: SQL query to execute\n",
    "    :param parameters: parameters - defaults to empty\n",
    "    :param fetch_one: fetch only single record\n",
    "    :return:\n",
    "    \"\"\"\n",
    "    # return dictionary rather than tuple\n",
    "    cursor = cnx.cursor(dictionary=True)\n",
    "    cursor.execute(sql, parameters)\n",
    "    everything = cursor.fetchone() if fetch_one else cursor.fetchall()\n",
    "    cursor.close()\n",
    "\n",
    "    if close_connection:\n",
    "        cnx.close()\n",
    "    return everything\n",
    "\n",
    "\n",
    "def execute_update_with_cnx(cnx, sql, parameters=()):\n",
    "    \"\"\"\n",
    "    execute SQL update with given connection.\n",
    "    Wasted a lot of time in it so adding this as a reminder, please commit your changes manually.\n",
    "    :param cnx: DB connection\n",
    "    :param sql: SQL query to execute\n",
    "    :param parameters: parameters - defaults to empty\n",
    "    :return:\n",
    "    \"\"\"\n",
    "    cursor = cnx.cursor()\n",
    "    cursor.execute(sql, parameters)\n",
    "    cursor.close()\n"
   ]
  },
  {
   "cell_type": "code",
   "execution_count": 34,
   "metadata": {},
   "outputs": [],
   "source": [
    "conn = get_connection()"
   ]
  },
  {
   "cell_type": "code",
   "execution_count": 35,
   "metadata": {},
   "outputs": [
    {
     "name": "stdout",
     "output_type": "stream",
     "text": [
      "(u'OFFENSE INVOLVING CHILDREN', 42)\n",
      "(u'STALKING', 7)\n",
      "(u'PUBLIC PEACE VIOLATION', 34)\n",
      "(u'ARSON', 4)\n",
      "(u'GAMBLING', 7)\n",
      "(u'CRIMINAL TRESPASS', 119)\n",
      "(u'ASSAULT', 225)\n",
      "(u'LIQUOR LAW VIOLATION', 11)\n",
      "(u'MOTOR VEHICLE THEFT', 186)\n",
      "(u'THEFT', 918)\n",
      "(u'BATTERY', 793)\n",
      "(u'ROBBERY', 142)\n",
      "(u'CRIM SEXUAL ASSAULT', 14)\n",
      "(u'PROSTITUTION', 94)\n",
      "(u'DECEPTIVE PRACTICE', 215)\n",
      "(u'SEX OFFENSE', 9)\n",
      "(u'CRIMINAL DAMAGE', 522)\n",
      "(u'NARCOTICS', 732)\n",
      "(u'OTHER OFFENSE', 282)\n",
      "(u'KIDNAPPING', 1)\n",
      "(u'BURGLARY', 230)\n",
      "(u'WEAPONS VIOLATION', 42)\n",
      "(u'INTERFERENCE WITH PUBLIC OFFICER', 8)\n"
     ]
    }
   ],
   "source": [
    "for crimes_data in data.collect():\n",
    "    print(crimes_data[0], crimes_data[1])\n",
    "    insert_query = \"\"\"INSERT INTO crimes (crime, count) VALUES('%s', '%i'); \"\"\" % (crimes_data[0], crimes_data[1])\n",
    "    execute_update_with_cnx(conn, insert_query)\n",
    "    conn.commit()"
   ]
  },
  {
   "cell_type": "code",
   "execution_count": null,
   "metadata": {},
   "outputs": [],
   "source": []
  }
 ],
 "metadata": {
  "kernelspec": {
   "display_name": "Python 2",
   "language": "python",
   "name": "python2"
  },
  "language_info": {
   "codemirror_mode": {
    "name": "ipython",
    "version": 2
   },
   "file_extension": ".py",
   "mimetype": "text/x-python",
   "name": "python",
   "nbconvert_exporter": "python",
   "pygments_lexer": "ipython2",
   "version": "2.7.16"
  }
 },
 "nbformat": 4,
 "nbformat_minor": 2
}
